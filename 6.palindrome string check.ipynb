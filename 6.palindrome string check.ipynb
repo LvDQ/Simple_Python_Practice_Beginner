{
 "cells": [
  {
   "cell_type": "markdown",
   "metadata": {},
   "source": [
    "Ask the user for a string and print out whether this string is a palindrome or not. (A palindrome is a string that reads the same forwards and backwards.)"
   ]
  },
  {
   "cell_type": "code",
   "execution_count": 7,
   "metadata": {},
   "outputs": [
    {
     "name": "stdout",
     "output_type": "stream",
     "text": [
      "The fact of string is palindrome is: True\n"
     ]
    }
   ],
   "source": [
    "string = \"A Santa Lived As a Devil At NASA\"\n",
    "\n",
    "newstr = string.replace(\" \", \"\")\n",
    "\n",
    "n= len(newstr)\n",
    "res = True;\n",
    "for i in range(int(n/2)):\n",
    "    if newstr[i]!=newstr[-(i+1)] and newstr[i]!=(newstr[-(i+1)]).lower() and newstr[i]!=(newstr[-(i+1)]).upper():\n",
    "        res=False;\n",
    "        break;\n",
    "print(\"The fact of string is palindrome is: \"+ str(res))"
   ]
  },
  {
   "cell_type": "code",
   "execution_count": null,
   "metadata": {
    "collapsed": true
   },
   "outputs": [],
   "source": []
  }
 ],
 "metadata": {
  "kernelspec": {
   "display_name": "Python 3",
   "language": "python",
   "name": "python3"
  },
  "language_info": {
   "codemirror_mode": {
    "name": "ipython",
    "version": 3
   },
   "file_extension": ".py",
   "mimetype": "text/x-python",
   "name": "python",
   "nbconvert_exporter": "python",
   "pygments_lexer": "ipython3",
   "version": "3.6.1"
  }
 },
 "nbformat": 4,
 "nbformat_minor": 2
}
