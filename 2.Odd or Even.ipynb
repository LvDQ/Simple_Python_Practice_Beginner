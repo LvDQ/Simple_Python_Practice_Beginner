{
 "cells": [
  {
   "cell_type": "markdown",
   "metadata": {},
   "source": [
    "Ask the user for a number. Depending on whether the number is even or odd, print out an appropriate message to the user. Hint: how does an even / odd number react differently when divided by 2?\n",
    "Extras:\n",
    "If the number is a multiple of 4, print out a different message.\n",
    "Ask the user for two numbers: one number to check (call it num) and one number to divide by (check). If check divides evenly into num, tell that to the user. If not, print a different appropriate message."
   ]
  },
  {
   "cell_type": "code",
   "execution_count": 6,
   "metadata": {},
   "outputs": [
    {
     "name": "stdout",
     "output_type": "stream",
     "text": [
      "Please input a divident: 424\n",
      "Please input a divisor: 106\n",
      "424  can be divided evenly by 106\n"
     ]
    }
   ],
   "source": [
    "divident= int(input(\"Please input a divident: \"))\n",
    "divisor = int(input(\"Please input a divisor: \"))\n",
    "\n",
    "if divident % divisor == 0:\n",
    "    print(str(divident), \" can be divided evenly by \" + str(divisor))\n",
    "else: \n",
    "    print(str(divident), \" can not be divided evenly by \" + str(divisor))"
   ]
  },
  {
   "cell_type": "code",
   "execution_count": 7,
   "metadata": {},
   "outputs": [
    {
     "name": "stdout",
     "output_type": "stream",
     "text": [
      "424 is a even number\n",
      "106 is a even number\n"
     ]
    }
   ],
   "source": [
    "if divident % 2 ==0:\n",
    "    print(str(divident),\"is a even number\")\n",
    "else:\n",
    "    print(str(divident, \"is an odd number\"))\n",
    "    \n",
    "if divisor % 2 ==0:\n",
    "    print(str(divisor),\"is a even number\")\n",
    "else:\n",
    "    print(str(divisor, \"is an odd number\"))"
   ]
  },
  {
   "cell_type": "code",
   "execution_count": null,
   "metadata": {
    "collapsed": true
   },
   "outputs": [],
   "source": []
  }
 ],
 "metadata": {
  "kernelspec": {
   "display_name": "Python 3",
   "language": "python",
   "name": "python3"
  },
  "language_info": {
   "codemirror_mode": {
    "name": "ipython",
    "version": 3
   },
   "file_extension": ".py",
   "mimetype": "text/x-python",
   "name": "python",
   "nbconvert_exporter": "python",
   "pygments_lexer": "ipython3",
   "version": "3.6.1"
  }
 },
 "nbformat": 4,
 "nbformat_minor": 2
}
