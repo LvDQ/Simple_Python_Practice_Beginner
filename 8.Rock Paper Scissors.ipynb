{
 "cells": [
  {
   "cell_type": "markdown",
   "metadata": {},
   "source": [
    "Make a two-player Rock-Paper-Scissors game. (Hint: Ask for player plays (using input), compare them, print out a message of congratulations to the winner, and ask if the players want to start a new game)"
   ]
  },
  {
   "cell_type": "code",
   "execution_count": 8,
   "metadata": {},
   "outputs": [
    {
     "name": "stdout",
     "output_type": "stream",
     "text": [
      "1\n",
      "1\n",
      "2\n",
      "1\n",
      "0\n",
      "1\n",
      "2\n",
      "0\n",
      "2\n",
      "2\n",
      "Print number: 1:Rock,2:Scissors,3:Paper3\n",
      "You choose Paper  and Computer choose Scissors\n",
      "You win!\n",
      "Do you want to play again? y/ny\n",
      "Print number: 1:Rock,2:Scissors,3:Paper3\n",
      "You choose Paper  and Computer choose Paper\n",
      "Do you want to play again? y/ny\n",
      "Print number: 1:Rock,2:Scissors,3:Paper3\n",
      "You choose Paper  and Computer choose Paper\n",
      "Do you want to play again? y/nn\n"
     ]
    }
   ],
   "source": [
    "import random\n",
    "from IPython.display import clear_output\n",
    "status = [\"Rock\",\"Scissors\",\"Paper\"]\n",
    "for x in range(10):\n",
    "    print(random.randint(0,2))\n",
    "while(1):\n",
    "    select = int(input(\"Print number: 1:Rock,2:Scissors,3:Paper\"))\n",
    "    Computer = random.randint(0,2)\n",
    "    print(\"You choose \" + status[select-1],\" and Computer choose \" +status[Computer-1])\n",
    "    if Computer == select:\n",
    "        print(\"It's a tie!\")\n",
    "    elif Computer==1:\n",
    "        if select==2:\n",
    "            print(\"You win!\")\n",
    "        else: \n",
    "            print(\"You lose!\")\n",
    "    elif Computer == 2:\n",
    "        if select==3:\n",
    "            print(\"You win!\")\n",
    "        else: \n",
    "            print(\"You lose!\")\n",
    "    elif Computer == 3:\n",
    "        if select==1:\n",
    "            print(\"You win!\")\n",
    "        else: \n",
    "            print(\"You lose!\")\n",
    "    retry=input(\"Do you want to play again? y/n\")\n",
    "    while(retry!=\"y\" and retry!=\"n\"):\n",
    "        print(\"Wrong input! Please input again!\")\n",
    "        retry=input(\"Do you want to play again? y/n\")\n",
    "    if(retry==\"n\"):\n",
    "        break"
   ]
  },
  {
   "cell_type": "markdown",
   "metadata": {},
   "source": [
    "### Another way by using function and sys"
   ]
  },
  {
   "cell_type": "code",
   "execution_count": 9,
   "metadata": {},
   "outputs": [
    {
     "name": "stdout",
     "output_type": "stream",
     "text": [
      "What's your name?k\n",
      "And your name?y\n",
      "k, do yo want to choose rock, paper or scissors?rock\n",
      "y, do you want to choose rock, paper or scissors?rock\n",
      "It's a tie!\n"
     ]
    }
   ],
   "source": [
    "import sys\n",
    "\n",
    "user1 = input(\"What's your name?\")\n",
    "user2 = input(\"And your name?\")\n",
    "user1_answer = input(\"%s, do yo want to choose rock, paper or scissors?\" % user1)\n",
    "user2_answer = input(\"%s, do you want to choose rock, paper or scissors?\" % user2)\n",
    "\n",
    "def compare(u1, u2):\n",
    "    if u1 == u2:\n",
    "        return(\"It's a tie!\")\n",
    "    elif u1 == 'rock':\n",
    "        if u2 == 'scissors':\n",
    "            return(\"Rock wins!\")\n",
    "        else:\n",
    "            return(\"Paper wins!\")\n",
    "    elif u1 == 'scissors':\n",
    "        if u2 == 'paper':\n",
    "            return(\"Scissors win!\")\n",
    "        else:\n",
    "            return(\"Rock wins!\")\n",
    "    elif u1 == 'paper':\n",
    "        if u2 == 'rock':\n",
    "            return(\"Paper wins!\")\n",
    "        else:\n",
    "            return(\"Scissors win!\")\n",
    "    else:\n",
    "        return(\"Invalid input! You have not entered rock, paper or scissors, try again.\")\n",
    "        sys.exit()\n",
    "\n",
    "print(compare(user1_answer, user2_answer))"
   ]
  },
  {
   "cell_type": "code",
   "execution_count": null,
   "metadata": {
    "collapsed": true
   },
   "outputs": [],
   "source": []
  }
 ],
 "metadata": {
  "kernelspec": {
   "display_name": "Python 3",
   "language": "python",
   "name": "python3"
  },
  "language_info": {
   "codemirror_mode": {
    "name": "ipython",
    "version": 3
   },
   "file_extension": ".py",
   "mimetype": "text/x-python",
   "name": "python",
   "nbconvert_exporter": "python",
   "pygments_lexer": "ipython3",
   "version": "3.6.1"
  }
 },
 "nbformat": 4,
 "nbformat_minor": 2
}
